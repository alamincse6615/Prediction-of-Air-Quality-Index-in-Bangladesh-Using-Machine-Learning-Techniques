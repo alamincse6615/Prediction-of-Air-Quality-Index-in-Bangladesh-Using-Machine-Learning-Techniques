{
 "cells": [
  {
   "cell_type": "markdown",
   "metadata": {},
   "source": [
    "# Combine Dhaka Dataset"
   ]
  },
  {
   "cell_type": "code",
   "execution_count": 6,
   "metadata": {},
   "outputs": [],
   "source": [
    "# data analysis and wrangling\n",
    "import pandas as pd\n",
    "import numpy as np\n",
    "import random as rnd"
   ]
  },
  {
   "cell_type": "code",
   "execution_count": 7,
   "metadata": {},
   "outputs": [],
   "source": [
    "data1 = pd.read_csv(\"F:\\CLASS\\CSE498R(Directed Research)\\Dataset\\DhakaNew\\Data-2016.csv\")\n",
    "data2 = pd.read_csv(\"F:\\CLASS\\CSE498R(Directed Research)\\Dataset\\DhakaNew\\Data-2017.csv\")\n",
    "data3 = pd.read_csv(\"F:\\CLASS\\CSE498R(Directed Research)\\Dataset\\DhakaNew\\Data-2018.csv\")\n",
    "data4 = pd.read_csv(\"F:\\CLASS\\CSE498R(Directed Research)\\Dataset\\DhakaNew\\Data-2019.csv\")\n",
    "data5 = pd.read_csv(\"F:\\CLASS\\CSE498R(Directed Research)\\Dataset\\DhakaNew\\Data-2020.csv\")"
   ]
  },
  {
   "cell_type": "code",
   "execution_count": 8,
   "metadata": {},
   "outputs": [],
   "source": [
    "frames = [data1,data2,data3,data4,data5]\n",
    "data = pd.concat(frames)"
   ]
  },
  {
   "cell_type": "code",
   "execution_count": 9,
   "metadata": {},
   "outputs": [
    {
     "data": {
      "text/html": [
       "<div>\n",
       "<style scoped>\n",
       "    .dataframe tbody tr th:only-of-type {\n",
       "        vertical-align: middle;\n",
       "    }\n",
       "\n",
       "    .dataframe tbody tr th {\n",
       "        vertical-align: top;\n",
       "    }\n",
       "\n",
       "    .dataframe thead th {\n",
       "        text-align: right;\n",
       "    }\n",
       "</style>\n",
       "<table border=\"1\" class=\"dataframe\">\n",
       "  <thead>\n",
       "    <tr style=\"text-align: right;\">\n",
       "      <th></th>\n",
       "      <th>D</th>\n",
       "      <th>T</th>\n",
       "      <th>TM</th>\n",
       "      <th>Tm</th>\n",
       "      <th>SLP</th>\n",
       "      <th>H</th>\n",
       "      <th>VV</th>\n",
       "      <th>V</th>\n",
       "      <th>VM</th>\n",
       "      <th>AQI</th>\n",
       "      <th>Category</th>\n",
       "    </tr>\n",
       "  </thead>\n",
       "  <tbody>\n",
       "    <tr>\n",
       "      <th>0</th>\n",
       "      <td>Jan-01</td>\n",
       "      <td>21.10</td>\n",
       "      <td>27.60</td>\n",
       "      <td>14.80</td>\n",
       "      <td>1018.80</td>\n",
       "      <td>66.00</td>\n",
       "      <td>1.80</td>\n",
       "      <td>0.60</td>\n",
       "      <td>3.50</td>\n",
       "      <td>388.0</td>\n",
       "      <td>EU</td>\n",
       "    </tr>\n",
       "    <tr>\n",
       "      <th>1</th>\n",
       "      <td>2</td>\n",
       "      <td>21.50</td>\n",
       "      <td>27.00</td>\n",
       "      <td>14.20</td>\n",
       "      <td>1018.00</td>\n",
       "      <td>64.00</td>\n",
       "      <td>2.60</td>\n",
       "      <td>2.40</td>\n",
       "      <td>9.40</td>\n",
       "      <td>312.0</td>\n",
       "      <td>EU</td>\n",
       "    </tr>\n",
       "    <tr>\n",
       "      <th>2</th>\n",
       "      <td>3</td>\n",
       "      <td>20.90</td>\n",
       "      <td>25.80</td>\n",
       "      <td>14.80</td>\n",
       "      <td>1016.50</td>\n",
       "      <td>63.00</td>\n",
       "      <td>2.60</td>\n",
       "      <td>2.20</td>\n",
       "      <td>9.40</td>\n",
       "      <td>305.0</td>\n",
       "      <td>EU</td>\n",
       "    </tr>\n",
       "    <tr>\n",
       "      <th>3</th>\n",
       "      <td>4</td>\n",
       "      <td>19.94</td>\n",
       "      <td>24.91</td>\n",
       "      <td>14.77</td>\n",
       "      <td>1015.23</td>\n",
       "      <td>65.27</td>\n",
       "      <td>1.94</td>\n",
       "      <td>1.91</td>\n",
       "      <td>6.12</td>\n",
       "      <td>307.0</td>\n",
       "      <td>EU</td>\n",
       "    </tr>\n",
       "    <tr>\n",
       "      <th>4</th>\n",
       "      <td>5</td>\n",
       "      <td>19.94</td>\n",
       "      <td>24.91</td>\n",
       "      <td>14.77</td>\n",
       "      <td>1015.23</td>\n",
       "      <td>65.27</td>\n",
       "      <td>1.94</td>\n",
       "      <td>1.91</td>\n",
       "      <td>6.12</td>\n",
       "      <td>294.0</td>\n",
       "      <td>VU</td>\n",
       "    </tr>\n",
       "  </tbody>\n",
       "</table>\n",
       "</div>"
      ],
      "text/plain": [
       "        D      T     TM     Tm      SLP      H    VV     V    VM    AQI  \\\n",
       "0  Jan-01  21.10  27.60  14.80  1018.80  66.00  1.80  0.60  3.50  388.0   \n",
       "1       2  21.50  27.00  14.20  1018.00  64.00  2.60  2.40  9.40  312.0   \n",
       "2       3  20.90  25.80  14.80  1016.50  63.00  2.60  2.20  9.40  305.0   \n",
       "3       4  19.94  24.91  14.77  1015.23  65.27  1.94  1.91  6.12  307.0   \n",
       "4       5  19.94  24.91  14.77  1015.23  65.27  1.94  1.91  6.12  294.0   \n",
       "\n",
       "  Category  \n",
       "0       EU  \n",
       "1       EU  \n",
       "2       EU  \n",
       "3       EU  \n",
       "4       VU  "
      ]
     },
     "execution_count": 9,
     "metadata": {},
     "output_type": "execute_result"
    }
   ],
   "source": [
    "data.head()"
   ]
  },
  {
   "cell_type": "code",
   "execution_count": 10,
   "metadata": {
    "scrolled": false
   },
   "outputs": [
    {
     "data": {
      "text/plain": [
       "D           0\n",
       "T           0\n",
       "TM          0\n",
       "Tm          0\n",
       "SLP         0\n",
       "H           0\n",
       "VV          0\n",
       "V           0\n",
       "VM          0\n",
       "AQI         0\n",
       "Category    0\n",
       "dtype: int64"
      ]
     },
     "execution_count": 10,
     "metadata": {},
     "output_type": "execute_result"
    }
   ],
   "source": [
    "data.isnull().sum()"
   ]
  },
  {
   "cell_type": "code",
   "execution_count": 11,
   "metadata": {},
   "outputs": [],
   "source": [
    "data.to_csv(r'F:\\CLASS\\CSE498R(Directed Research)\\Dataset\\DhakaNew\\CombineDhakaDataset.csv', index=False)"
   ]
  },
  {
   "cell_type": "code",
   "execution_count": null,
   "metadata": {},
   "outputs": [],
   "source": []
  }
 ],
 "metadata": {
  "kernelspec": {
   "display_name": "Python 3",
   "language": "python",
   "name": "python3"
  },
  "language_info": {
   "codemirror_mode": {
    "name": "ipython",
    "version": 3
   },
   "file_extension": ".py",
   "mimetype": "text/x-python",
   "name": "python",
   "nbconvert_exporter": "python",
   "pygments_lexer": "ipython3",
   "version": "3.8.11"
  }
 },
 "nbformat": 4,
 "nbformat_minor": 4
}
