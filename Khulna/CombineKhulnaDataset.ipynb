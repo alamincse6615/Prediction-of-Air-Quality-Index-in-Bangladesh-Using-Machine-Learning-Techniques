{
 "cells": [
  {
   "cell_type": "markdown",
   "id": "8f2fc3e0",
   "metadata": {},
   "source": [
    "# Combine Khulna Dataset"
   ]
  },
  {
   "cell_type": "code",
   "execution_count": 11,
   "id": "ad6edcf5",
   "metadata": {},
   "outputs": [],
   "source": [
    "# data analysis and wrangling\n",
    "import pandas as pd\n",
    "import numpy as np"
   ]
  },
  {
   "cell_type": "code",
   "execution_count": 12,
   "id": "828e088a",
   "metadata": {},
   "outputs": [],
   "source": [
    "data1 = pd.read_csv(\"G:\\\\KHULNA DATA CSV\\\\New Data\\\\Data-2018.csv\")\n",
    "data2 = pd.read_csv(\"G:\\\\KHULNA DATA CSV\\\\New Data\\\\Data-2019.csv\")\n",
    "data3 = pd.read_csv(\"G:\\\\KHULNA DATA CSV\\\\New Data\\\\Data-2020.csv\")"
   ]
  },
  {
   "cell_type": "code",
   "execution_count": 13,
   "id": "3fdc36dc",
   "metadata": {},
   "outputs": [],
   "source": [
    "frames = [data1,data2,data3]\n",
    "data = pd.concat(frames)"
   ]
  },
  {
   "cell_type": "code",
   "execution_count": 14,
   "id": "45c7e980",
   "metadata": {},
   "outputs": [
    {
     "data": {
      "text/html": [
       "<div>\n",
       "<style scoped>\n",
       "    .dataframe tbody tr th:only-of-type {\n",
       "        vertical-align: middle;\n",
       "    }\n",
       "\n",
       "    .dataframe tbody tr th {\n",
       "        vertical-align: top;\n",
       "    }\n",
       "\n",
       "    .dataframe thead th {\n",
       "        text-align: right;\n",
       "    }\n",
       "</style>\n",
       "<table border=\"1\" class=\"dataframe\">\n",
       "  <thead>\n",
       "    <tr style=\"text-align: right;\">\n",
       "      <th></th>\n",
       "      <th>D</th>\n",
       "      <th>T</th>\n",
       "      <th>TM</th>\n",
       "      <th>Tm</th>\n",
       "      <th>SLP</th>\n",
       "      <th>H</th>\n",
       "      <th>VV</th>\n",
       "      <th>V</th>\n",
       "      <th>VM</th>\n",
       "      <th>AQI</th>\n",
       "      <th>Category</th>\n",
       "    </tr>\n",
       "  </thead>\n",
       "  <tbody>\n",
       "    <tr>\n",
       "      <th>0</th>\n",
       "      <td>1-Jan</td>\n",
       "      <td>21.00</td>\n",
       "      <td>25.5</td>\n",
       "      <td>18.00</td>\n",
       "      <td>1010.90</td>\n",
       "      <td>77.00</td>\n",
       "      <td>5.10</td>\n",
       "      <td>0.00</td>\n",
       "      <td>4.13</td>\n",
       "      <td>346.0</td>\n",
       "      <td>EU</td>\n",
       "    </tr>\n",
       "    <tr>\n",
       "      <th>1</th>\n",
       "      <td>2</td>\n",
       "      <td>18.60</td>\n",
       "      <td>22.5</td>\n",
       "      <td>16.00</td>\n",
       "      <td>1011.70</td>\n",
       "      <td>85.00</td>\n",
       "      <td>5.00</td>\n",
       "      <td>0.00</td>\n",
       "      <td>4.13</td>\n",
       "      <td>39.0</td>\n",
       "      <td>G</td>\n",
       "    </tr>\n",
       "    <tr>\n",
       "      <th>2</th>\n",
       "      <td>3</td>\n",
       "      <td>17.40</td>\n",
       "      <td>23.2</td>\n",
       "      <td>13.50</td>\n",
       "      <td>1012.70</td>\n",
       "      <td>72.00</td>\n",
       "      <td>4.80</td>\n",
       "      <td>1.70</td>\n",
       "      <td>7.60</td>\n",
       "      <td>346.0</td>\n",
       "      <td>EU</td>\n",
       "    </tr>\n",
       "    <tr>\n",
       "      <th>3</th>\n",
       "      <td>4</td>\n",
       "      <td>17.54</td>\n",
       "      <td>24.0</td>\n",
       "      <td>12.54</td>\n",
       "      <td>1012.67</td>\n",
       "      <td>76.27</td>\n",
       "      <td>4.39</td>\n",
       "      <td>0.51</td>\n",
       "      <td>4.13</td>\n",
       "      <td>396.0</td>\n",
       "      <td>EU</td>\n",
       "    </tr>\n",
       "    <tr>\n",
       "      <th>4</th>\n",
       "      <td>5</td>\n",
       "      <td>17.54</td>\n",
       "      <td>24.0</td>\n",
       "      <td>12.54</td>\n",
       "      <td>1012.67</td>\n",
       "      <td>76.27</td>\n",
       "      <td>4.39</td>\n",
       "      <td>0.51</td>\n",
       "      <td>4.13</td>\n",
       "      <td>372.0</td>\n",
       "      <td>EU</td>\n",
       "    </tr>\n",
       "  </tbody>\n",
       "</table>\n",
       "</div>"
      ],
      "text/plain": [
       "       D      T    TM     Tm      SLP      H    VV     V    VM    AQI Category\n",
       "0  1-Jan  21.00  25.5  18.00  1010.90  77.00  5.10  0.00  4.13  346.0       EU\n",
       "1      2  18.60  22.5  16.00  1011.70  85.00  5.00  0.00  4.13   39.0        G\n",
       "2      3  17.40  23.2  13.50  1012.70  72.00  4.80  1.70  7.60  346.0       EU\n",
       "3      4  17.54  24.0  12.54  1012.67  76.27  4.39  0.51  4.13  396.0       EU\n",
       "4      5  17.54  24.0  12.54  1012.67  76.27  4.39  0.51  4.13  372.0       EU"
      ]
     },
     "execution_count": 14,
     "metadata": {},
     "output_type": "execute_result"
    }
   ],
   "source": [
    "data.head()"
   ]
  },
  {
   "cell_type": "code",
   "execution_count": 15,
   "id": "b81b870d",
   "metadata": {},
   "outputs": [
    {
     "data": {
      "text/plain": [
       "D           0\n",
       "T           0\n",
       "TM          0\n",
       "Tm          0\n",
       "SLP         0\n",
       "H           0\n",
       "VV          0\n",
       "V           0\n",
       "VM          0\n",
       "AQI         0\n",
       "Category    0\n",
       "dtype: int64"
      ]
     },
     "execution_count": 15,
     "metadata": {},
     "output_type": "execute_result"
    }
   ],
   "source": [
    "data.isnull().sum()"
   ]
  },
  {
   "cell_type": "code",
   "execution_count": 16,
   "id": "a631c8f7",
   "metadata": {},
   "outputs": [],
   "source": [
    "data.to_csv(r'G:\\KHULNA DATA CSV\\New Data\\CombineKhulnaDataset.csv', index=False)"
   ]
  },
  {
   "cell_type": "code",
   "execution_count": null,
   "id": "92b956f3",
   "metadata": {},
   "outputs": [],
   "source": []
  }
 ],
 "metadata": {
  "kernelspec": {
   "display_name": "Python 3",
   "language": "python",
   "name": "python3"
  },
  "language_info": {
   "codemirror_mode": {
    "name": "ipython",
    "version": 3
   },
   "file_extension": ".py",
   "mimetype": "text/x-python",
   "name": "python",
   "nbconvert_exporter": "python",
   "pygments_lexer": "ipython3",
   "version": "3.8.8"
  }
 },
 "nbformat": 4,
 "nbformat_minor": 5
}
