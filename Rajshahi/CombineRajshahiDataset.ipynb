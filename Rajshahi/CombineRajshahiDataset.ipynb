{
 "cells": [
  {
   "cell_type": "markdown",
   "metadata": {},
   "source": [
    "# Combine Rajshahi Dataset"
   ]
  },
  {
   "cell_type": "code",
   "execution_count": 17,
   "metadata": {},
   "outputs": [],
   "source": [
    "# data analysis and wrangling\n",
    "import pandas as pd\n",
    "import numpy as np"
   ]
  },
  {
   "cell_type": "code",
   "execution_count": 18,
   "metadata": {},
   "outputs": [],
   "source": [
    "data1 = pd.read_csv(\"F:\\CLASS\\CSE498R(Directed Research)\\Dataset\\RajshahiNew\\Data-2018.csv\")\n",
    "data2 = pd.read_csv(\"F:\\CLASS\\CSE498R(Directed Research)\\Dataset\\RajshahiNew\\Data-2019.csv\")\n",
    "data3 = pd.read_csv(\"F:\\CLASS\\CSE498R(Directed Research)\\Dataset\\RajshahiNew\\Data-2020.csv\")"
   ]
  },
  {
   "cell_type": "code",
   "execution_count": 19,
   "metadata": {},
   "outputs": [],
   "source": [
    "frames = [data1,data2,data3]\n",
    "data = pd.concat(frames)"
   ]
  },
  {
   "cell_type": "code",
   "execution_count": 20,
   "metadata": {
    "scrolled": true
   },
   "outputs": [
    {
     "data": {
      "text/html": [
       "<div>\n",
       "<style scoped>\n",
       "    .dataframe tbody tr th:only-of-type {\n",
       "        vertical-align: middle;\n",
       "    }\n",
       "\n",
       "    .dataframe tbody tr th {\n",
       "        vertical-align: top;\n",
       "    }\n",
       "\n",
       "    .dataframe thead th {\n",
       "        text-align: right;\n",
       "    }\n",
       "</style>\n",
       "<table border=\"1\" class=\"dataframe\">\n",
       "  <thead>\n",
       "    <tr style=\"text-align: right;\">\n",
       "      <th></th>\n",
       "      <th>D</th>\n",
       "      <th>T</th>\n",
       "      <th>TM</th>\n",
       "      <th>Tm</th>\n",
       "      <th>SLP</th>\n",
       "      <th>H</th>\n",
       "      <th>VV</th>\n",
       "      <th>V</th>\n",
       "      <th>VM</th>\n",
       "      <th>AQI</th>\n",
       "      <th>Category</th>\n",
       "    </tr>\n",
       "  </thead>\n",
       "  <tbody>\n",
       "    <tr>\n",
       "      <th>0</th>\n",
       "      <td>Jan-01</td>\n",
       "      <td>18.4</td>\n",
       "      <td>24.50</td>\n",
       "      <td>14.00</td>\n",
       "      <td>1011.80</td>\n",
       "      <td>81.00</td>\n",
       "      <td>5.60</td>\n",
       "      <td>3.30</td>\n",
       "      <td>5.40</td>\n",
       "      <td>285.0</td>\n",
       "      <td>VU</td>\n",
       "    </tr>\n",
       "    <tr>\n",
       "      <th>1</th>\n",
       "      <td>2</td>\n",
       "      <td>14.2</td>\n",
       "      <td>18.40</td>\n",
       "      <td>11.40</td>\n",
       "      <td>1012.10</td>\n",
       "      <td>88.00</td>\n",
       "      <td>4.30</td>\n",
       "      <td>5.00</td>\n",
       "      <td>7.60</td>\n",
       "      <td>285.0</td>\n",
       "      <td>VU</td>\n",
       "    </tr>\n",
       "    <tr>\n",
       "      <th>2</th>\n",
       "      <td>3</td>\n",
       "      <td>14.8</td>\n",
       "      <td>23.60</td>\n",
       "      <td>10.60</td>\n",
       "      <td>1012.80</td>\n",
       "      <td>71.00</td>\n",
       "      <td>5.00</td>\n",
       "      <td>4.10</td>\n",
       "      <td>7.60</td>\n",
       "      <td>391.0</td>\n",
       "      <td>EU</td>\n",
       "    </tr>\n",
       "    <tr>\n",
       "      <th>3</th>\n",
       "      <td>4</td>\n",
       "      <td>14.9</td>\n",
       "      <td>22.29</td>\n",
       "      <td>9.65</td>\n",
       "      <td>1013.11</td>\n",
       "      <td>80.82</td>\n",
       "      <td>4.94</td>\n",
       "      <td>2.74</td>\n",
       "      <td>5.85</td>\n",
       "      <td>261.0</td>\n",
       "      <td>VU</td>\n",
       "    </tr>\n",
       "    <tr>\n",
       "      <th>4</th>\n",
       "      <td>5</td>\n",
       "      <td>14.9</td>\n",
       "      <td>22.29</td>\n",
       "      <td>9.65</td>\n",
       "      <td>1013.11</td>\n",
       "      <td>80.82</td>\n",
       "      <td>4.94</td>\n",
       "      <td>2.74</td>\n",
       "      <td>5.85</td>\n",
       "      <td>219.0</td>\n",
       "      <td>VU</td>\n",
       "    </tr>\n",
       "  </tbody>\n",
       "</table>\n",
       "</div>"
      ],
      "text/plain": [
       "        D     T     TM     Tm      SLP      H    VV     V    VM    AQI  \\\n",
       "0  Jan-01  18.4  24.50  14.00  1011.80  81.00  5.60  3.30  5.40  285.0   \n",
       "1       2  14.2  18.40  11.40  1012.10  88.00  4.30  5.00  7.60  285.0   \n",
       "2       3  14.8  23.60  10.60  1012.80  71.00  5.00  4.10  7.60  391.0   \n",
       "3       4  14.9  22.29   9.65  1013.11  80.82  4.94  2.74  5.85  261.0   \n",
       "4       5  14.9  22.29   9.65  1013.11  80.82  4.94  2.74  5.85  219.0   \n",
       "\n",
       "  Category  \n",
       "0       VU  \n",
       "1       VU  \n",
       "2       EU  \n",
       "3       VU  \n",
       "4       VU  "
      ]
     },
     "execution_count": 20,
     "metadata": {},
     "output_type": "execute_result"
    }
   ],
   "source": [
    "data.head()"
   ]
  },
  {
   "cell_type": "code",
   "execution_count": 21,
   "metadata": {
    "scrolled": true
   },
   "outputs": [
    {
     "data": {
      "text/plain": [
       "D           0\n",
       "T           0\n",
       "TM          0\n",
       "Tm          0\n",
       "SLP         0\n",
       "H           0\n",
       "VV          0\n",
       "V           0\n",
       "VM          0\n",
       "AQI         0\n",
       "Category    0\n",
       "dtype: int64"
      ]
     },
     "execution_count": 21,
     "metadata": {},
     "output_type": "execute_result"
    }
   ],
   "source": [
    "data.isnull().sum()"
   ]
  },
  {
   "cell_type": "code",
   "execution_count": 22,
   "metadata": {},
   "outputs": [],
   "source": [
    "data.to_csv(r'F:\\CLASS\\CSE498R(Directed Research)\\Dataset\\RajshahiNew\\CombineRajshahiDataset.csv', index=False)"
   ]
  }
 ],
 "metadata": {
  "kernelspec": {
   "display_name": "Python 3",
   "language": "python",
   "name": "python3"
  },
  "language_info": {
   "codemirror_mode": {
    "name": "ipython",
    "version": 3
   },
   "file_extension": ".py",
   "mimetype": "text/x-python",
   "name": "python",
   "nbconvert_exporter": "python",
   "pygments_lexer": "ipython3",
   "version": "3.8.5"
  }
 },
 "nbformat": 4,
 "nbformat_minor": 4
}
